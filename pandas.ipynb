{
 "cells": [
  {
   "cell_type": "code",
   "execution_count": 1,
   "metadata": {},
   "outputs": [],
   "source": [
    "import numpy as np\n",
    "import pandas as pd \n",
    "from sklearn import preprocessing\n",
    "import matplotlib.pyplot as plt"
   ]
  },
  {
   "cell_type": "code",
   "execution_count": 2,
   "metadata": {},
   "outputs": [],
   "source": [
    "data = pd.read_csv('exams.csv')"
   ]
  },
  {
   "cell_type": "code",
   "execution_count": 3,
   "metadata": {},
   "outputs": [
    {
     "data": {
      "text/plain": [
       "gender                         0\n",
       "race/ethnicity                 0\n",
       "parental level of education    0\n",
       "lunch                          0\n",
       "test preparation course        0\n",
       "math score                     0\n",
       "reading score                  0\n",
       "writing score                  0\n",
       "dtype: int64"
      ]
     },
     "execution_count": 3,
     "metadata": {},
     "output_type": "execute_result"
    }
   ],
   "source": [
    "# check for missing values\n",
    "\n",
    "data.isnull().sum()"
   ]
  },
  {
   "cell_type": "code",
   "execution_count": 4,
   "metadata": {},
   "outputs": [
    {
     "data": {
      "text/html": [
       "<div>\n",
       "<style scoped>\n",
       "    .dataframe tbody tr th:only-of-type {\n",
       "        vertical-align: middle;\n",
       "    }\n",
       "\n",
       "    .dataframe tbody tr th {\n",
       "        vertical-align: top;\n",
       "    }\n",
       "\n",
       "    .dataframe thead th {\n",
       "        text-align: right;\n",
       "    }\n",
       "</style>\n",
       "<table border=\"1\" class=\"dataframe\">\n",
       "  <thead>\n",
       "    <tr style=\"text-align: right;\">\n",
       "      <th></th>\n",
       "      <th>gender</th>\n",
       "      <th>race/ethnicity</th>\n",
       "      <th>parental level of education</th>\n",
       "      <th>lunch</th>\n",
       "      <th>test preparation course</th>\n",
       "      <th>math score</th>\n",
       "      <th>reading score</th>\n",
       "      <th>writing score</th>\n",
       "      <th>total score</th>\n",
       "    </tr>\n",
       "  </thead>\n",
       "  <tbody>\n",
       "    <tr>\n",
       "      <th>775</th>\n",
       "      <td>female</td>\n",
       "      <td>group D</td>\n",
       "      <td>associate's degree</td>\n",
       "      <td>standard</td>\n",
       "      <td>none</td>\n",
       "      <td>80</td>\n",
       "      <td>85</td>\n",
       "      <td>86</td>\n",
       "      <td>83</td>\n",
       "    </tr>\n",
       "  </tbody>\n",
       "</table>\n",
       "</div>"
      ],
      "text/plain": [
       "     gender race/ethnicity parental level of education     lunch  \\\n",
       "775  female        group D          associate's degree  standard   \n",
       "\n",
       "    test preparation course  math score  reading score  writing score  \\\n",
       "775                    none          80             85             86   \n",
       "\n",
       "     total score  \n",
       "775           83  "
      ]
     },
     "execution_count": 4,
     "metadata": {},
     "output_type": "execute_result"
    }
   ],
   "source": [
    "# total score = average of the 3 existing scores.\n",
    "# It will be used to determine whether a student deserves to pass the whole test, not only an individual section of the test.\n",
    "\n",
    "data['total score'] = (data['math score']+data['reading score']+data['writing score'])/3\n",
    "data['total score'] = data['total score'].astype(int)\n",
    "data.sample()\n",
    "\n",
    "# grades?\n",
    "# total score distribution?  #students, #score"
   ]
  },
  {
   "cell_type": "code",
   "execution_count": 5,
   "metadata": {},
   "outputs": [
    {
     "data": {
      "text/html": [
       "<div>\n",
       "<style scoped>\n",
       "    .dataframe tbody tr th:only-of-type {\n",
       "        vertical-align: middle;\n",
       "    }\n",
       "\n",
       "    .dataframe tbody tr th {\n",
       "        vertical-align: top;\n",
       "    }\n",
       "\n",
       "    .dataframe thead th {\n",
       "        text-align: right;\n",
       "    }\n",
       "</style>\n",
       "<table border=\"1\" class=\"dataframe\">\n",
       "  <thead>\n",
       "    <tr style=\"text-align: right;\">\n",
       "      <th></th>\n",
       "      <th>gender</th>\n",
       "      <th>race/ethnicity</th>\n",
       "      <th>parental level of education</th>\n",
       "      <th>lunch</th>\n",
       "      <th>test preparation course</th>\n",
       "      <th>math score</th>\n",
       "      <th>reading score</th>\n",
       "      <th>writing score</th>\n",
       "      <th>total score</th>\n",
       "    </tr>\n",
       "  </thead>\n",
       "  <tbody>\n",
       "    <tr>\n",
       "      <th>0</th>\n",
       "      <td>female</td>\n",
       "      <td>group D</td>\n",
       "      <td>high school</td>\n",
       "      <td>free/reduced</td>\n",
       "      <td>none</td>\n",
       "      <td>55</td>\n",
       "      <td>61</td>\n",
       "      <td>62</td>\n",
       "      <td>59</td>\n",
       "    </tr>\n",
       "    <tr>\n",
       "      <th>1</th>\n",
       "      <td>male</td>\n",
       "      <td>group D</td>\n",
       "      <td>some high school</td>\n",
       "      <td>standard</td>\n",
       "      <td>none</td>\n",
       "      <td>60</td>\n",
       "      <td>56</td>\n",
       "      <td>54</td>\n",
       "      <td>56</td>\n",
       "    </tr>\n",
       "    <tr>\n",
       "      <th>2</th>\n",
       "      <td>male</td>\n",
       "      <td>group C</td>\n",
       "      <td>some high school</td>\n",
       "      <td>standard</td>\n",
       "      <td>none</td>\n",
       "      <td>84</td>\n",
       "      <td>77</td>\n",
       "      <td>70</td>\n",
       "      <td>77</td>\n",
       "    </tr>\n",
       "    <tr>\n",
       "      <th>3</th>\n",
       "      <td>female</td>\n",
       "      <td>group C</td>\n",
       "      <td>associate's degree</td>\n",
       "      <td>free/reduced</td>\n",
       "      <td>none</td>\n",
       "      <td>49</td>\n",
       "      <td>62</td>\n",
       "      <td>59</td>\n",
       "      <td>56</td>\n",
       "    </tr>\n",
       "    <tr>\n",
       "      <th>4</th>\n",
       "      <td>female</td>\n",
       "      <td>group E</td>\n",
       "      <td>associate's degree</td>\n",
       "      <td>standard</td>\n",
       "      <td>none</td>\n",
       "      <td>100</td>\n",
       "      <td>100</td>\n",
       "      <td>100</td>\n",
       "      <td>100</td>\n",
       "    </tr>\n",
       "  </tbody>\n",
       "</table>\n",
       "</div>"
      ],
      "text/plain": [
       "   gender race/ethnicity parental level of education         lunch  \\\n",
       "0  female        group D                 high school  free/reduced   \n",
       "1    male        group D            some high school      standard   \n",
       "2    male        group C            some high school      standard   \n",
       "3  female        group C          associate's degree  free/reduced   \n",
       "4  female        group E          associate's degree      standard   \n",
       "\n",
       "  test preparation course  math score  reading score  writing score  \\\n",
       "0                    none          55             61             62   \n",
       "1                    none          60             56             54   \n",
       "2                    none          84             77             70   \n",
       "3                    none          49             62             59   \n",
       "4                    none         100            100            100   \n",
       "\n",
       "   total score  \n",
       "0           59  \n",
       "1           56  \n",
       "2           77  \n",
       "3           56  \n",
       "4          100  "
      ]
     },
     "execution_count": 5,
     "metadata": {},
     "output_type": "execute_result"
    }
   ],
   "source": [
    "data.head()"
   ]
  },
  {
   "cell_type": "code",
   "execution_count": 6,
   "metadata": {},
   "outputs": [
    {
     "data": {
      "text/html": [
       "<div>\n",
       "<style scoped>\n",
       "    .dataframe tbody tr th:only-of-type {\n",
       "        vertical-align: middle;\n",
       "    }\n",
       "\n",
       "    .dataframe tbody tr th {\n",
       "        vertical-align: top;\n",
       "    }\n",
       "\n",
       "    .dataframe thead th {\n",
       "        text-align: right;\n",
       "    }\n",
       "</style>\n",
       "<table border=\"1\" class=\"dataframe\">\n",
       "  <thead>\n",
       "    <tr style=\"text-align: right;\">\n",
       "      <th></th>\n",
       "      <th>math score</th>\n",
       "      <th>reading score</th>\n",
       "      <th>writing score</th>\n",
       "      <th>total score</th>\n",
       "    </tr>\n",
       "  </thead>\n",
       "  <tbody>\n",
       "    <tr>\n",
       "      <th>count</th>\n",
       "      <td>1000.000000</td>\n",
       "      <td>1000.000000</td>\n",
       "      <td>1000.000000</td>\n",
       "      <td>1000.000000</td>\n",
       "    </tr>\n",
       "    <tr>\n",
       "      <th>mean</th>\n",
       "      <td>67.108000</td>\n",
       "      <td>70.065000</td>\n",
       "      <td>68.882000</td>\n",
       "      <td>68.356000</td>\n",
       "    </tr>\n",
       "    <tr>\n",
       "      <th>std</th>\n",
       "      <td>15.057459</td>\n",
       "      <td>14.578179</td>\n",
       "      <td>15.237856</td>\n",
       "      <td>14.229397</td>\n",
       "    </tr>\n",
       "    <tr>\n",
       "      <th>min</th>\n",
       "      <td>19.000000</td>\n",
       "      <td>27.000000</td>\n",
       "      <td>26.000000</td>\n",
       "      <td>25.000000</td>\n",
       "    </tr>\n",
       "    <tr>\n",
       "      <th>25%</th>\n",
       "      <td>57.000000</td>\n",
       "      <td>60.000000</td>\n",
       "      <td>58.000000</td>\n",
       "      <td>58.000000</td>\n",
       "    </tr>\n",
       "    <tr>\n",
       "      <th>50%</th>\n",
       "      <td>67.000000</td>\n",
       "      <td>70.000000</td>\n",
       "      <td>69.000000</td>\n",
       "      <td>68.500000</td>\n",
       "    </tr>\n",
       "    <tr>\n",
       "      <th>75%</th>\n",
       "      <td>78.000000</td>\n",
       "      <td>81.000000</td>\n",
       "      <td>80.000000</td>\n",
       "      <td>79.000000</td>\n",
       "    </tr>\n",
       "    <tr>\n",
       "      <th>max</th>\n",
       "      <td>100.000000</td>\n",
       "      <td>100.000000</td>\n",
       "      <td>100.000000</td>\n",
       "      <td>100.000000</td>\n",
       "    </tr>\n",
       "  </tbody>\n",
       "</table>\n",
       "</div>"
      ],
      "text/plain": [
       "        math score  reading score  writing score  total score\n",
       "count  1000.000000    1000.000000    1000.000000  1000.000000\n",
       "mean     67.108000      70.065000      68.882000    68.356000\n",
       "std      15.057459      14.578179      15.237856    14.229397\n",
       "min      19.000000      27.000000      26.000000    25.000000\n",
       "25%      57.000000      60.000000      58.000000    58.000000\n",
       "50%      67.000000      70.000000      69.000000    68.500000\n",
       "75%      78.000000      81.000000      80.000000    79.000000\n",
       "max     100.000000     100.000000     100.000000   100.000000"
      ]
     },
     "execution_count": 6,
     "metadata": {},
     "output_type": "execute_result"
    }
   ],
   "source": [
    "# Overall look at dataset\n",
    "data.describe()"
   ]
  },
  {
   "cell_type": "code",
   "execution_count": 7,
   "metadata": {},
   "outputs": [
    {
     "data": {
      "text/html": [
       "<div>\n",
       "<style scoped>\n",
       "    .dataframe tbody tr th:only-of-type {\n",
       "        vertical-align: middle;\n",
       "    }\n",
       "\n",
       "    .dataframe tbody tr th {\n",
       "        vertical-align: top;\n",
       "    }\n",
       "\n",
       "    .dataframe thead th {\n",
       "        text-align: right;\n",
       "    }\n",
       "</style>\n",
       "<table border=\"1\" class=\"dataframe\">\n",
       "  <thead>\n",
       "    <tr style=\"text-align: right;\">\n",
       "      <th></th>\n",
       "      <th>gender</th>\n",
       "      <th>race/ethnicity</th>\n",
       "      <th>parental level of education</th>\n",
       "      <th>lunch</th>\n",
       "      <th>test preparation course</th>\n",
       "      <th>math score</th>\n",
       "      <th>reading score</th>\n",
       "      <th>writing score</th>\n",
       "      <th>total score</th>\n",
       "    </tr>\n",
       "  </thead>\n",
       "  <tbody>\n",
       "    <tr>\n",
       "      <th>126</th>\n",
       "      <td>female</td>\n",
       "      <td>group E</td>\n",
       "      <td>bachelor's degree</td>\n",
       "      <td>standard</td>\n",
       "      <td>none</td>\n",
       "      <td>100</td>\n",
       "      <td>100</td>\n",
       "      <td>100</td>\n",
       "      <td>100</td>\n",
       "    </tr>\n",
       "    <tr>\n",
       "      <th>606</th>\n",
       "      <td>female</td>\n",
       "      <td>group D</td>\n",
       "      <td>master's degree</td>\n",
       "      <td>standard</td>\n",
       "      <td>completed</td>\n",
       "      <td>100</td>\n",
       "      <td>100</td>\n",
       "      <td>100</td>\n",
       "      <td>100</td>\n",
       "    </tr>\n",
       "    <tr>\n",
       "      <th>550</th>\n",
       "      <td>female</td>\n",
       "      <td>group E</td>\n",
       "      <td>bachelor's degree</td>\n",
       "      <td>standard</td>\n",
       "      <td>none</td>\n",
       "      <td>100</td>\n",
       "      <td>100</td>\n",
       "      <td>100</td>\n",
       "      <td>100</td>\n",
       "    </tr>\n",
       "    <tr>\n",
       "      <th>4</th>\n",
       "      <td>female</td>\n",
       "      <td>group E</td>\n",
       "      <td>associate's degree</td>\n",
       "      <td>standard</td>\n",
       "      <td>none</td>\n",
       "      <td>100</td>\n",
       "      <td>100</td>\n",
       "      <td>100</td>\n",
       "      <td>100</td>\n",
       "    </tr>\n",
       "    <tr>\n",
       "      <th>344</th>\n",
       "      <td>male</td>\n",
       "      <td>group C</td>\n",
       "      <td>bachelor's degree</td>\n",
       "      <td>standard</td>\n",
       "      <td>completed</td>\n",
       "      <td>100</td>\n",
       "      <td>100</td>\n",
       "      <td>100</td>\n",
       "      <td>100</td>\n",
       "    </tr>\n",
       "    <tr>\n",
       "      <th>105</th>\n",
       "      <td>male</td>\n",
       "      <td>group C</td>\n",
       "      <td>bachelor's degree</td>\n",
       "      <td>standard</td>\n",
       "      <td>completed</td>\n",
       "      <td>100</td>\n",
       "      <td>97</td>\n",
       "      <td>98</td>\n",
       "      <td>98</td>\n",
       "    </tr>\n",
       "    <tr>\n",
       "      <th>210</th>\n",
       "      <td>female</td>\n",
       "      <td>group D</td>\n",
       "      <td>some college</td>\n",
       "      <td>standard</td>\n",
       "      <td>completed</td>\n",
       "      <td>97</td>\n",
       "      <td>99</td>\n",
       "      <td>100</td>\n",
       "      <td>98</td>\n",
       "    </tr>\n",
       "    <tr>\n",
       "      <th>149</th>\n",
       "      <td>female</td>\n",
       "      <td>group D</td>\n",
       "      <td>some high school</td>\n",
       "      <td>standard</td>\n",
       "      <td>completed</td>\n",
       "      <td>93</td>\n",
       "      <td>99</td>\n",
       "      <td>99</td>\n",
       "      <td>97</td>\n",
       "    </tr>\n",
       "    <tr>\n",
       "      <th>959</th>\n",
       "      <td>female</td>\n",
       "      <td>group E</td>\n",
       "      <td>some college</td>\n",
       "      <td>standard</td>\n",
       "      <td>none</td>\n",
       "      <td>95</td>\n",
       "      <td>99</td>\n",
       "      <td>99</td>\n",
       "      <td>97</td>\n",
       "    </tr>\n",
       "    <tr>\n",
       "      <th>198</th>\n",
       "      <td>female</td>\n",
       "      <td>group A</td>\n",
       "      <td>master's degree</td>\n",
       "      <td>standard</td>\n",
       "      <td>completed</td>\n",
       "      <td>91</td>\n",
       "      <td>100</td>\n",
       "      <td>100</td>\n",
       "      <td>97</td>\n",
       "    </tr>\n",
       "  </tbody>\n",
       "</table>\n",
       "</div>"
      ],
      "text/plain": [
       "     gender race/ethnicity parental level of education     lunch  \\\n",
       "126  female        group E           bachelor's degree  standard   \n",
       "606  female        group D             master's degree  standard   \n",
       "550  female        group E           bachelor's degree  standard   \n",
       "4    female        group E          associate's degree  standard   \n",
       "344    male        group C           bachelor's degree  standard   \n",
       "105    male        group C           bachelor's degree  standard   \n",
       "210  female        group D                some college  standard   \n",
       "149  female        group D            some high school  standard   \n",
       "959  female        group E                some college  standard   \n",
       "198  female        group A             master's degree  standard   \n",
       "\n",
       "    test preparation course  math score  reading score  writing score  \\\n",
       "126                    none         100            100            100   \n",
       "606               completed         100            100            100   \n",
       "550                    none         100            100            100   \n",
       "4                      none         100            100            100   \n",
       "344               completed         100            100            100   \n",
       "105               completed         100             97             98   \n",
       "210               completed          97             99            100   \n",
       "149               completed          93             99             99   \n",
       "959                    none          95             99             99   \n",
       "198               completed          91            100            100   \n",
       "\n",
       "     total score  \n",
       "126          100  \n",
       "606          100  \n",
       "550          100  \n",
       "4            100  \n",
       "344          100  \n",
       "105           98  \n",
       "210           98  \n",
       "149           97  \n",
       "959           97  \n",
       "198           97  "
      ]
     },
     "execution_count": 7,
     "metadata": {},
     "output_type": "execute_result"
    }
   ],
   "source": [
    "# Race/ethnicity, parental level of education of top 10 students have? Are they mostly male, or female?\n",
    "\n",
    "sorted_data = data.sort_values(by= ['total score'],ascending = False)\n",
    "sorted_data.head(10)"
   ]
  },
  {
   "cell_type": "code",
   "execution_count": 8,
   "metadata": {},
   "outputs": [
    {
     "data": {
      "image/png": "[encoded data removed]",
      "text/plain": [
       "<Figure size 432x216 with 1 Axes>"
      ]
     },
     "metadata": {},
     "output_type": "display_data"
    }
   ],
   "source": [
    "# let us explore the data set, starting with ratio of male and female students:\n",
    "\n",
    "fig, ax = plt.subplots(figsize=(6, 3), subplot_kw=dict(aspect=\"equal\"))\n",
    "ax.set_title(\"Gender Ratio\")\n",
    "\n",
    "male = data[data.gender == 'male'].shape[0]\n",
    "female = data[data.gender == 'female'].shape[0]\n",
    "\n",
    "labels = 'Male', 'Female'\n",
    "sizes= [male, female]\n",
    "colors = ['lightskyblue', 'lightcoral']\n",
    "\n",
    "plt.axis(\"equal\")\n",
    "plt.pie(sizes, labels=labels, colors=colors, autopct='%1.1f%%', startangle=90)\n",
    "plt.tight_layout()\n",
    "plt.show()"
   ]
  },
  {
   "cell_type": "code",
   "execution_count": 9,
   "metadata": {},
   "outputs": [
    {
     "data": {
      "image/png": "[encoded data removed]",
      "text/plain": [
       "<Figure size 432x216 with 1 Axes>"
      ]
     },
     "metadata": {},
     "output_type": "display_data"
    }
   ],
   "source": [
    "# ratio of each race/ethnicity group\n",
    "\n",
    "fig, ax = plt.subplots(figsize=(6, 3), subplot_kw=dict(aspect=\"equal\"))\n",
    "ax.set_title(\"Race / Ethnicity Ratio of Students\")\n",
    "\n",
    "GA = data[data['race/ethnicity'] == 'group A'].shape[0]\n",
    "GB = data[data['race/ethnicity'] == 'group B'].shape[0]\n",
    "GC = data[data['race/ethnicity'] == 'group C'].shape[0]\n",
    "GD = data[data['race/ethnicity'] == 'group D'].shape[0]\n",
    "\n",
    "labels = 'Group A', 'Group B', 'Group C', 'Group D'\n",
    "sizes = [GA, GB, GC, GD]\n",
    "colors = ['#ff9999','#66b3ff','#99ff99','#ffcc99']\n",
    "explode = (0, 0, 0.1, 0)\n",
    "\n",
    "plt.axis(\"equal\")\n",
    "plt.pie(sizes, explode=explode, colors=colors, labels=labels, autopct='%1.1f%%')\n",
    "plt.tight_layout()\n",
    "plt.show()"
   ]
  },
  {
   "cell_type": "code",
   "execution_count": 10,
   "metadata": {},
   "outputs": [
    {
     "data": {
      "image/png": "[encoded data removed]",
      "text/plain": [
       "<Figure size 432x396 with 1 Axes>"
      ]
     },
     "metadata": {},
     "output_type": "display_data"
    }
   ],
   "source": [
    "# ratio of students based on parental level of education \n",
    "\n",
    "fig, ax = plt.subplots(figsize=(6, 5.5), subplot_kw=dict(aspect=\"equal\"))\n",
    "ax.set_title(\"Parental Level of Education Ratio\")\n",
    "\n",
    "hs = data[data['parental level of education'] == 'high school'].shape[0]\n",
    "shs = data[data['parental level of education'] == 'some high school'].shape[0]\n",
    "sc = data[data['parental level of education'] == 'some college'].shape[0]\n",
    "ad = data[data['parental level of education'] == 'associate\\'s degree'].shape[0]\n",
    "bd = data[data['parental level of education'] == 'bachelor\\'s degree'].shape[0]\n",
    "md = data[data['parental level of education'] == 'master\\'s degree'].shape[0]\n",
    "\n",
    "labels = 'High School', 'Some High School', 'Some College', 'Associate\\'s Degree', 'Bachelor\\'s Degree', 'Master\\'s Degree'\n",
    "sizes = [hs, shs, sc, ad, bd, md]\n",
    "explode = (0.05, 0.05, 0.05, 0.05, 0.05, 0.05)\n",
    "\n",
    "plt.pie(sizes, labels=labels, explode=explode, autopct='%1.1f%%', startangle=90)\n",
    "\n",
    "#draw circle\n",
    "centre_circle = plt.Circle((0,0),0.70,fc='white')\n",
    "fig = plt.gcf()\n",
    "fig.gca().add_artist(centre_circle)\n",
    "\n",
    "plt.axis(\"equal\")\n",
    "plt.tight_layout()\n",
    "plt.show()"
   ]
  },
  {
   "cell_type": "code",
   "execution_count": 11,
   "metadata": {},
   "outputs": [
    {
     "data": {
      "image/png": "[encoded data removed]",
      "text/plain": [
       "<Figure size 432x216 with 1 Axes>"
      ]
     },
     "metadata": {},
     "output_type": "display_data"
    }
   ],
   "source": [
    "# ratio of students having free/reduced lunch and standard lunch\n",
    "\n",
    "fig, ax = plt.subplots(figsize=(6, 3), subplot_kw=dict(aspect=\"equal\"))\n",
    "ax.set_title(\"Ratio of Students' Lunch\")\n",
    "\n",
    "free_reduced = data[data['lunch'] == 'free/reduced'].shape[0]\n",
    "std = data[data['lunch'] == 'standard'].shape[0]\n",
    "\n",
    "labels = 'Free/reduced', 'Standard'\n",
    "sizes= [free_reduced, std]\n",
    "colors = ['lightskyblue', 'lightcoral']\n",
    "\n",
    "plt.axis(\"equal\")\n",
    "plt.pie(sizes, labels=labels, colors=colors,autopct='%1.1f%%', startangle=90)\n",
    "plt.tight_layout()\n",
    "plt.show()"
   ]
  },
  {
   "cell_type": "code",
   "execution_count": 12,
   "metadata": {},
   "outputs": [
    {
     "data": {
      "image/png": "[encoded data removed]",
      "text/plain": [
       "<Figure size 432x216 with 1 Axes>"
      ]
     },
     "metadata": {},
     "output_type": "display_data"
    }
   ],
   "source": [
    "# ratio of students who took the test prep course and who didn't\n",
    "\n",
    "fig, ax = plt.subplots(figsize=(6, 3), subplot_kw=dict(aspect=\"equal\"))\n",
    "ax.set_title(\"Test Preparation Course\")\n",
    "\n",
    "none = data[data['test preparation course'] == 'none'].shape[0]\n",
    "completed = data[data['test preparation course'] == 'completed'].shape[0]\n",
    "\n",
    "labels = 'None', 'Completed'\n",
    "sizes= [none, completed]\n",
    "colors = ['lightskyblue', 'lightcoral']\n",
    "\n",
    "plt.axis(\"equal\")\n",
    "plt.pie(sizes, labels=labels, colors=colors,autopct='%1.1f%%', startangle=90)\n",
    "plt.tight_layout()\n",
    "plt.show()"
   ]
  },
  {
   "cell_type": "code",
   "execution_count": 13,
   "metadata": {},
   "outputs": [
    {
     "data": {
      "text/plain": [
       "Text(0.5, 0, 'total score')"
      ]
     },
     "execution_count": 13,
     "metadata": {},
     "output_type": "execute_result"
    },
    {
     "data": {
      "image/png": "[encoded data removed]",
      "text/plain": [
       "<Figure size 720x504 with 1 Axes>"
      ]
     },
     "metadata": {
      "needs_background": "light"
     },
     "output_type": "display_data"
    }
   ],
   "source": [
    "import seaborn as sns\n",
    "from math import * \n",
    "import warnings\n",
    "warnings.filterwarnings('ignore')\n",
    "\n",
    "plt.figure(figsize=(10,7))\n",
    "plt.title('Total Score Distribution')\n",
    "plt.ylabel('Count')\n",
    "sns.distplot(data['total score'], color = 'fuchsia')\n",
    "plt.xlabel('total score')"
   ]
  },
  {
   "cell_type": "code",
   "execution_count": 14,
   "metadata": {},
   "outputs": [
    {
     "data": {
      "text/html": [
       "<div>\n",
       "<style scoped>\n",
       "    .dataframe tbody tr th:only-of-type {\n",
       "        vertical-align: middle;\n",
       "    }\n",
       "\n",
       "    .dataframe tbody tr th {\n",
       "        vertical-align: top;\n",
       "    }\n",
       "\n",
       "    .dataframe thead th {\n",
       "        text-align: right;\n",
       "    }\n",
       "</style>\n",
       "<table border=\"1\" class=\"dataframe\">\n",
       "  <thead>\n",
       "    <tr style=\"text-align: right;\">\n",
       "      <th></th>\n",
       "      <th>math score</th>\n",
       "      <th>reading score</th>\n",
       "      <th>writing score</th>\n",
       "      <th>total score</th>\n",
       "    </tr>\n",
       "    <tr>\n",
       "      <th>gender</th>\n",
       "      <th></th>\n",
       "      <th></th>\n",
       "      <th></th>\n",
       "      <th></th>\n",
       "    </tr>\n",
       "  </thead>\n",
       "  <tbody>\n",
       "    <tr>\n",
       "      <th>female</th>\n",
       "      <td>64.782</td>\n",
       "      <td>73.794</td>\n",
       "      <td>73.530</td>\n",
       "      <td>70.378</td>\n",
       "    </tr>\n",
       "    <tr>\n",
       "      <th>male</th>\n",
       "      <td>69.434</td>\n",
       "      <td>66.336</td>\n",
       "      <td>64.234</td>\n",
       "      <td>66.334</td>\n",
       "    </tr>\n",
       "  </tbody>\n",
       "</table>\n",
       "</div>"
      ],
      "text/plain": [
       "        math score  reading score  writing score  total score\n",
       "gender                                                       \n",
       "female      64.782         73.794         73.530       70.378\n",
       "male        69.434         66.336         64.234       66.334"
      ]
     },
     "execution_count": 14,
     "metadata": {},
     "output_type": "execute_result"
    }
   ],
   "source": [
    "# exploring the data set, and also to see if each column affects \n",
    "# the target variables to a noticeable degree, comparing the scores to the mean. \n",
    "\n",
    "data.groupby(['gender']).mean()"
   ]
  },
  {
   "cell_type": "code",
   "execution_count": 47,
   "metadata": {},
   "outputs": [],
   "source": [
    "# visualization - total score by gender\n"
   ]
  },
  {
   "cell_type": "code",
   "execution_count": 16,
   "metadata": {},
   "outputs": [
    {
     "data": {
      "text/html": [
       "<div>\n",
       "<style scoped>\n",
       "    .dataframe tbody tr th:only-of-type {\n",
       "        vertical-align: middle;\n",
       "    }\n",
       "\n",
       "    .dataframe tbody tr th {\n",
       "        vertical-align: top;\n",
       "    }\n",
       "\n",
       "    .dataframe thead th {\n",
       "        text-align: right;\n",
       "    }\n",
       "</style>\n",
       "<table border=\"1\" class=\"dataframe\">\n",
       "  <thead>\n",
       "    <tr style=\"text-align: right;\">\n",
       "      <th></th>\n",
       "      <th>math score</th>\n",
       "      <th>reading score</th>\n",
       "      <th>writing score</th>\n",
       "      <th>total score</th>\n",
       "    </tr>\n",
       "    <tr>\n",
       "      <th>race/ethnicity</th>\n",
       "      <th></th>\n",
       "      <th></th>\n",
       "      <th></th>\n",
       "      <th></th>\n",
       "    </tr>\n",
       "  </thead>\n",
       "  <tbody>\n",
       "    <tr>\n",
       "      <th>group A</th>\n",
       "      <td>66.506494</td>\n",
       "      <td>70.194805</td>\n",
       "      <td>68.480519</td>\n",
       "      <td>68.090909</td>\n",
       "    </tr>\n",
       "    <tr>\n",
       "      <th>group B</th>\n",
       "      <td>62.964286</td>\n",
       "      <td>66.331633</td>\n",
       "      <td>64.693878</td>\n",
       "      <td>64.352041</td>\n",
       "    </tr>\n",
       "    <tr>\n",
       "      <th>group C</th>\n",
       "      <td>64.583333</td>\n",
       "      <td>69.077160</td>\n",
       "      <td>67.250000</td>\n",
       "      <td>66.638889</td>\n",
       "    </tr>\n",
       "    <tr>\n",
       "      <th>group D</th>\n",
       "      <td>68.289683</td>\n",
       "      <td>71.265873</td>\n",
       "      <td>71.857143</td>\n",
       "      <td>70.134921</td>\n",
       "    </tr>\n",
       "    <tr>\n",
       "      <th>group E</th>\n",
       "      <td>76.238411</td>\n",
       "      <td>74.960265</td>\n",
       "      <td>73.059603</td>\n",
       "      <td>74.403974</td>\n",
       "    </tr>\n",
       "  </tbody>\n",
       "</table>\n",
       "</div>"
      ],
      "text/plain": [
       "                math score  reading score  writing score  total score\n",
       "race/ethnicity                                                       \n",
       "group A          66.506494      70.194805      68.480519    68.090909\n",
       "group B          62.964286      66.331633      64.693878    64.352041\n",
       "group C          64.583333      69.077160      67.250000    66.638889\n",
       "group D          68.289683      71.265873      71.857143    70.134921\n",
       "group E          76.238411      74.960265      73.059603    74.403974"
      ]
     },
     "execution_count": 16,
     "metadata": {},
     "output_type": "execute_result"
    }
   ],
   "source": [
    "data.groupby(['race/ethnicity']).mean()"
   ]
  },
  {
   "cell_type": "code",
   "execution_count": 45,
   "metadata": {},
   "outputs": [
    {
     "data": {
      "text/plain": [
       "Text(0.5, 1.0, 'Total Score With Respect To Race/Ethnicity')"
      ]
     },
     "execution_count": 45,
     "metadata": {},
     "output_type": "execute_result"
    },
    {
     "data": {
      "image/png": "[encoded data removed]",
      "text/plain": [
       "<Figure size 1440x720 with 1 Axes>"
      ]
     },
     "metadata": {
      "needs_background": "light"
     },
     "output_type": "display_data"
    }
   ],
   "source": [
    "# visualization - total score by race/ethnicity\n",
    "\n",
    "f,ax1 = plt.subplots(figsize =(20,10))\n",
    "sns.pointplot(x='race/ethnicity',y='total score',data=data,color='blue')\n",
    "\n",
    "plt.xlabel('race/ethnicity',fontsize = 15,color='black')\n",
    "plt.ylabel('score',fontsize = 15,color='black')\n",
    "plt.title('Total Score With Respect to Race/Ethnicity',fontsize = 20,color='black')"
   ]
  },
  {
   "cell_type": "code",
   "execution_count": 18,
   "metadata": {},
   "outputs": [
    {
     "data": {
      "text/html": [
       "<div>\n",
       "<style scoped>\n",
       "    .dataframe tbody tr th:only-of-type {\n",
       "        vertical-align: middle;\n",
       "    }\n",
       "\n",
       "    .dataframe tbody tr th {\n",
       "        vertical-align: top;\n",
       "    }\n",
       "\n",
       "    .dataframe thead th {\n",
       "        text-align: right;\n",
       "    }\n",
       "</style>\n",
       "<table border=\"1\" class=\"dataframe\">\n",
       "  <thead>\n",
       "    <tr style=\"text-align: right;\">\n",
       "      <th></th>\n",
       "      <th>math score</th>\n",
       "      <th>reading score</th>\n",
       "      <th>writing score</th>\n",
       "      <th>total score</th>\n",
       "    </tr>\n",
       "    <tr>\n",
       "      <th>parental level of education</th>\n",
       "      <th></th>\n",
       "      <th></th>\n",
       "      <th></th>\n",
       "      <th></th>\n",
       "    </tr>\n",
       "  </thead>\n",
       "  <tbody>\n",
       "    <tr>\n",
       "      <th>associate's degree</th>\n",
       "      <td>68.103261</td>\n",
       "      <td>72.217391</td>\n",
       "      <td>71.059783</td>\n",
       "      <td>70.130435</td>\n",
       "    </tr>\n",
       "    <tr>\n",
       "      <th>bachelor's degree</th>\n",
       "      <td>71.327586</td>\n",
       "      <td>74.465517</td>\n",
       "      <td>75.034483</td>\n",
       "      <td>73.275862</td>\n",
       "    </tr>\n",
       "    <tr>\n",
       "      <th>high school</th>\n",
       "      <td>64.939560</td>\n",
       "      <td>67.428571</td>\n",
       "      <td>65.549451</td>\n",
       "      <td>65.637363</td>\n",
       "    </tr>\n",
       "    <tr>\n",
       "      <th>master's degree</th>\n",
       "      <td>72.648649</td>\n",
       "      <td>77.283784</td>\n",
       "      <td>76.864865</td>\n",
       "      <td>75.297297</td>\n",
       "    </tr>\n",
       "    <tr>\n",
       "      <th>some college</th>\n",
       "      <td>67.109705</td>\n",
       "      <td>69.544304</td>\n",
       "      <td>68.641350</td>\n",
       "      <td>68.105485</td>\n",
       "    </tr>\n",
       "    <tr>\n",
       "      <th>some high school</th>\n",
       "      <td>63.782609</td>\n",
       "      <td>66.019324</td>\n",
       "      <td>63.850242</td>\n",
       "      <td>64.217391</td>\n",
       "    </tr>\n",
       "  </tbody>\n",
       "</table>\n",
       "</div>"
      ],
      "text/plain": [
       "                             math score  reading score  writing score  \\\n",
       "parental level of education                                             \n",
       "associate's degree            68.103261      72.217391      71.059783   \n",
       "bachelor's degree             71.327586      74.465517      75.034483   \n",
       "high school                   64.939560      67.428571      65.549451   \n",
       "master's degree               72.648649      77.283784      76.864865   \n",
       "some college                  67.109705      69.544304      68.641350   \n",
       "some high school              63.782609      66.019324      63.850242   \n",
       "\n",
       "                             total score  \n",
       "parental level of education               \n",
       "associate's degree             70.130435  \n",
       "bachelor's degree              73.275862  \n",
       "high school                    65.637363  \n",
       "master's degree                75.297297  \n",
       "some college                   68.105485  \n",
       "some high school               64.217391  "
      ]
     },
     "execution_count": 18,
     "metadata": {},
     "output_type": "execute_result"
    }
   ],
   "source": [
    "data.groupby(['parental level of education']).mean()"
   ]
  },
  {
   "cell_type": "code",
   "execution_count": 46,
   "metadata": {},
   "outputs": [
    {
     "data": {
      "text/plain": [
       "Text(0.5, 1.0, 'Total Score With Respect to Parental Level of Education')"
      ]
     },
     "execution_count": 46,
     "metadata": {},
     "output_type": "execute_result"
    },
    {
     "data": {
      "image/png": "[encoded data removed]",
      "text/plain": [
       "<Figure size 1440x720 with 1 Axes>"
      ]
     },
     "metadata": {
      "needs_background": "light"
     },
     "output_type": "display_data"
    }
   ],
   "source": [
    "# visualization - total score by parental level of education\n",
    "\n",
    "\n",
    "f,ax1 = plt.subplots(figsize =(20,10))\n",
    "sns.pointplot(x='parental level of education',y='total score',data=data,color='red')\n",
    "\n",
    "plt.xlabel('parental level of education',fontsize = 15,color='black')\n",
    "plt.ylabel('total score',fontsize = 15,color='black')\n",
    "plt.title('Total Score With Respect to Parental Level of Education',fontsize = 20,color='black')"
   ]
  },
  {
   "cell_type": "code",
   "execution_count": 20,
   "metadata": {},
   "outputs": [
    {
     "data": {
      "text/html": [
       "<div>\n",
       "<style scoped>\n",
       "    .dataframe tbody tr th:only-of-type {\n",
       "        vertical-align: middle;\n",
       "    }\n",
       "\n",
       "    .dataframe tbody tr th {\n",
       "        vertical-align: top;\n",
       "    }\n",
       "\n",
       "    .dataframe thead th {\n",
       "        text-align: right;\n",
       "    }\n",
       "</style>\n",
       "<table border=\"1\" class=\"dataframe\">\n",
       "  <thead>\n",
       "    <tr style=\"text-align: right;\">\n",
       "      <th></th>\n",
       "      <th>math score</th>\n",
       "      <th>reading score</th>\n",
       "      <th>writing score</th>\n",
       "      <th>total score</th>\n",
       "    </tr>\n",
       "    <tr>\n",
       "      <th>lunch</th>\n",
       "      <th></th>\n",
       "      <th></th>\n",
       "      <th></th>\n",
       "      <th></th>\n",
       "    </tr>\n",
       "  </thead>\n",
       "  <tbody>\n",
       "    <tr>\n",
       "      <th>free/reduced</th>\n",
       "      <td>58.804598</td>\n",
       "      <td>64.195402</td>\n",
       "      <td>62.028736</td>\n",
       "      <td>61.344828</td>\n",
       "    </tr>\n",
       "    <tr>\n",
       "      <th>standard</th>\n",
       "      <td>71.539877</td>\n",
       "      <td>73.197853</td>\n",
       "      <td>72.539877</td>\n",
       "      <td>72.098160</td>\n",
       "    </tr>\n",
       "  </tbody>\n",
       "</table>\n",
       "</div>"
      ],
      "text/plain": [
       "              math score  reading score  writing score  total score\n",
       "lunch                                                              \n",
       "free/reduced   58.804598      64.195402      62.028736    61.344828\n",
       "standard       71.539877      73.197853      72.539877    72.098160"
      ]
     },
     "execution_count": 20,
     "metadata": {},
     "output_type": "execute_result"
    }
   ],
   "source": [
    "data.groupby(['lunch']).mean()"
   ]
  },
  {
   "cell_type": "code",
   "execution_count": 21,
   "metadata": {},
   "outputs": [],
   "source": [
    "# visualization - total score by lunch"
   ]
  },
  {
   "cell_type": "code",
   "execution_count": 22,
   "metadata": {},
   "outputs": [
    {
     "data": {
      "text/html": [
       "<div>\n",
       "<style scoped>\n",
       "    .dataframe tbody tr th:only-of-type {\n",
       "        vertical-align: middle;\n",
       "    }\n",
       "\n",
       "    .dataframe tbody tr th {\n",
       "        vertical-align: top;\n",
       "    }\n",
       "\n",
       "    .dataframe thead th {\n",
       "        text-align: right;\n",
       "    }\n",
       "</style>\n",
       "<table border=\"1\" class=\"dataframe\">\n",
       "  <thead>\n",
       "    <tr style=\"text-align: right;\">\n",
       "      <th></th>\n",
       "      <th>math score</th>\n",
       "      <th>reading score</th>\n",
       "      <th>writing score</th>\n",
       "      <th>total score</th>\n",
       "    </tr>\n",
       "    <tr>\n",
       "      <th>test preparation course</th>\n",
       "      <th></th>\n",
       "      <th></th>\n",
       "      <th></th>\n",
       "      <th></th>\n",
       "    </tr>\n",
       "  </thead>\n",
       "  <tbody>\n",
       "    <tr>\n",
       "      <th>completed</th>\n",
       "      <td>70.621701</td>\n",
       "      <td>74.551320</td>\n",
       "      <td>75.454545</td>\n",
       "      <td>73.190616</td>\n",
       "    </tr>\n",
       "    <tr>\n",
       "      <th>none</th>\n",
       "      <td>65.289833</td>\n",
       "      <td>67.743551</td>\n",
       "      <td>65.481032</td>\n",
       "      <td>65.854325</td>\n",
       "    </tr>\n",
       "  </tbody>\n",
       "</table>\n",
       "</div>"
      ],
      "text/plain": [
       "                         math score  reading score  writing score  total score\n",
       "test preparation course                                                       \n",
       "completed                 70.621701      74.551320      75.454545    73.190616\n",
       "none                      65.289833      67.743551      65.481032    65.854325"
      ]
     },
     "execution_count": 22,
     "metadata": {},
     "output_type": "execute_result"
    }
   ],
   "source": [
    "data.groupby(['test preparation course']).mean()"
   ]
  },
  {
   "cell_type": "code",
   "execution_count": 23,
   "metadata": {},
   "outputs": [],
   "source": [
    "# visualization - total score by prep course\n"
   ]
  },
  {
   "cell_type": "code",
   "execution_count": 24,
   "metadata": {},
   "outputs": [],
   "source": [
    "# calculating mutual information for target variables \n",
    "\n",
    "def calc_MI(X,Y,bins):\n",
    "\n",
    "   c_XY = np.histogram2d(X[:,0],Y,bins)[0]\n",
    "   c_X = np.histogram(X,bins)[0]\n",
    "   c_Y = np.histogram(Y,bins)[0]\n",
    "\n",
    "   H_X = shan_entropy(c_X)\n",
    "   H_Y = shan_entropy(c_Y)\n",
    "   H_XY = shan_entropy(c_XY)\n",
    "\n",
    "   MI = H_X + H_Y - H_XY\n",
    "   return MI\n",
    "\n",
    "def shan_entropy(c):\n",
    "    c_normalized = c / float(np.sum(c))\n",
    "    c_normalized = c_normalized[np.nonzero(c_normalized)]\n",
    "    H = -sum(c_normalized* np.log2(c_normalized))  \n",
    "    return H\n",
    "\n",
    "bins = 10"
   ]
  },
  {
   "cell_type": "code",
   "execution_count": 25,
   "metadata": {},
   "outputs": [
    {
     "data": {
      "text/plain": [
       "0.0288763725751493"
      ]
     },
     "execution_count": 25,
     "metadata": {},
     "output_type": "execute_result"
    }
   ],
   "source": [
    "# x = gender, y = math score\n",
    "\n",
    "x = data['gender']\n",
    "y = data['math score']\n",
    "\n",
    "le = preprocessing.LabelEncoder()\n",
    "le.fit(x)\n",
    "\n",
    "x_1 = le.fit_transform(x) \n",
    "x_1 = x_1.reshape(-1, 1)\n",
    "\n",
    "A = np.array(x_1)\n",
    "n = A.shape[1]\n",
    "matMI = np.zeros((n, n))\n",
    "\n",
    "for ix in np.arange(n):\n",
    "    for jx in np.arange(ix+1,n):\n",
    "        matMI[ix,jx] = calc_MI(A[:,ix], A[:,jx], bins)\n",
    "        \n",
    "matMI = calc_MI(x_1, y, bins)\n",
    "matMI\n"
   ]
  },
  {
   "cell_type": "code",
   "execution_count": 26,
   "metadata": {},
   "outputs": [
    {
     "data": {
      "text/plain": [
       "0.058822530443375154"
      ]
     },
     "execution_count": 26,
     "metadata": {},
     "output_type": "execute_result"
    }
   ],
   "source": [
    "# x = gender, y = reading score\n",
    "\n",
    "y = data['reading score']\n",
    "\n",
    "matMI = calc_MI(x_1, y, bins)\n",
    "matMI"
   ]
  },
  {
   "cell_type": "code",
   "execution_count": 27,
   "metadata": {},
   "outputs": [
    {
     "data": {
      "text/plain": [
       "0.08240336046011043"
      ]
     },
     "execution_count": 27,
     "metadata": {},
     "output_type": "execute_result"
    }
   ],
   "source": [
    "# x = gender, y = writing score\n",
    "\n",
    "y = data['writing score']\n",
    "matMI = calc_MI(x_1, y, bins)\n",
    "matMI"
   ]
  },
  {
   "cell_type": "code",
   "execution_count": 28,
   "metadata": {},
   "outputs": [
    {
     "data": {
      "text/plain": [
       "0.08370058914989809"
      ]
     },
     "execution_count": 28,
     "metadata": {},
     "output_type": "execute_result"
    }
   ],
   "source": [
    "# x = race/ethnicity, y = math score\n",
    "\n",
    "x = data['race/ethnicity']\n",
    "y = data['math score']\n",
    "\n",
    "le = preprocessing.LabelEncoder()\n",
    "le.fit(x)\n",
    "\n",
    "x_2 = le.fit_transform(x) \n",
    "x_2 = x_2.reshape(-1, 1)\n",
    "\n",
    "# since x changed, update A and the relevant variables\n",
    "\n",
    "A = np.array(x_2)\n",
    "n = A.shape[1]\n",
    "matMI = np.zeros((n, n))\n",
    "\n",
    "for ix in np.arange(n):\n",
    "    for jx in np.arange(ix+1,n):\n",
    "        matMI[ix,jx] = calc_MI(A[:,ix], A[:,jx], bins)\n",
    "\n",
    "matMI = calc_MI(x_2, y, bins)\n",
    "matMI"
   ]
  },
  {
   "cell_type": "code",
   "execution_count": 29,
   "metadata": {},
   "outputs": [
    {
     "data": {
      "text/plain": [
       "0.04641904437207511"
      ]
     },
     "execution_count": 29,
     "metadata": {},
     "output_type": "execute_result"
    }
   ],
   "source": [
    "# x = race/ethnicity, y = reading score\n",
    "\n",
    "y = data['reading score']\n",
    "matMI = calc_MI(x_2, y, bins)\n",
    "matMI"
   ]
  },
  {
   "cell_type": "code",
   "execution_count": 30,
   "metadata": {},
   "outputs": [
    {
     "data": {
      "text/plain": [
       "0.05863806767121815"
      ]
     },
     "execution_count": 30,
     "metadata": {},
     "output_type": "execute_result"
    }
   ],
   "source": [
    "# x = race/ethnicity, y = writing score\n",
    "\n",
    "y = data['writing score']\n",
    "matMI = calc_MI(x_2, y, bins)\n",
    "matMI"
   ]
  },
  {
   "cell_type": "code",
   "execution_count": 31,
   "metadata": {},
   "outputs": [
    {
     "data": {
      "text/plain": [
       "0.04854356733786869"
      ]
     },
     "execution_count": 31,
     "metadata": {},
     "output_type": "execute_result"
    }
   ],
   "source": [
    "# x = parental level of education, y = math score\n",
    "\n",
    "x = data['parental level of education']\n",
    "y = data['math score']\n",
    "\n",
    "le = preprocessing.LabelEncoder()\n",
    "le.fit(x)\n",
    "\n",
    "x_3 = le.fit_transform(x) \n",
    "x_3 = x_3.reshape(-1, 1)\n",
    "\n",
    "# since x changed, update A and the relevant variables\n",
    "\n",
    "A = np.array(x_3)\n",
    "n = A.shape[1]\n",
    "matMI = np.zeros((n, n))\n",
    "\n",
    "for ix in np.arange(n):\n",
    "    for jx in np.arange(ix+1,n):\n",
    "        matMI[ix,jx] = calc_MI(A[:,ix], A[:,jx], bins)\n",
    "        \n",
    "matMI = calc_MI(x_3, y, bins)\n",
    "matMI"
   ]
  },
  {
   "cell_type": "code",
   "execution_count": 32,
   "metadata": {},
   "outputs": [
    {
     "data": {
      "text/plain": [
       "0.060942298108336956"
      ]
     },
     "execution_count": 32,
     "metadata": {},
     "output_type": "execute_result"
    }
   ],
   "source": [
    "# x = parental level of education, y = reading score\n",
    "\n",
    "y = data['reading score']\n",
    "matMI = calc_MI(x_3, y, bins)\n",
    "matMI"
   ]
  },
  {
   "cell_type": "code",
   "execution_count": 33,
   "metadata": {},
   "outputs": [
    {
     "data": {
      "text/plain": [
       "0.08030174412931412"
      ]
     },
     "execution_count": 33,
     "metadata": {},
     "output_type": "execute_result"
    }
   ],
   "source": [
    "# x = parental level of education, y = writing score\n",
    "\n",
    "y = data['writing score']\n",
    "matMI = calc_MI(x_3, y, bins)\n",
    "matMI"
   ]
  },
  {
   "cell_type": "code",
   "execution_count": 34,
   "metadata": {},
   "outputs": [
    {
     "data": {
      "text/plain": [
       "0.12909788096779318"
      ]
     },
     "execution_count": 34,
     "metadata": {},
     "output_type": "execute_result"
    }
   ],
   "source": [
    "# x = lunch, y = math score\n",
    "\n",
    "x = data['lunch']\n",
    "y = data['math score']\n",
    "\n",
    "le = preprocessing.LabelEncoder()\n",
    "le.fit(x)\n",
    "\n",
    "x_4 = le.fit_transform(x) \n",
    "x_4 = x_4.reshape(-1, 1)\n",
    "\n",
    "# since x changed, update A and the relevant variables\n",
    "\n",
    "A = np.array(x_4)\n",
    "n = A.shape[1]\n",
    "matMI = np.zeros((n, n))\n",
    "\n",
    "for ix in np.arange(n):\n",
    "    for jx in np.arange(ix+1,n):\n",
    "        matMI[ix,jx] = calc_MI(A[:,ix], A[:,jx], bins)\n",
    "\n",
    "matMI = calc_MI(x_4, y, bins)\n",
    "matMI"
   ]
  },
  {
   "cell_type": "code",
   "execution_count": 35,
   "metadata": {},
   "outputs": [
    {
     "data": {
      "text/plain": [
       "0.07145065289743258"
      ]
     },
     "execution_count": 35,
     "metadata": {},
     "output_type": "execute_result"
    }
   ],
   "source": [
    "# x = lunch, y = reading score\n",
    "\n",
    "y = data['reading score']\n",
    "matMI = calc_MI(x_4, y, bins)\n",
    "matMI"
   ]
  },
  {
   "cell_type": "code",
   "execution_count": 36,
   "metadata": {},
   "outputs": [
    {
     "data": {
      "text/plain": [
       "0.08216904086589238"
      ]
     },
     "execution_count": 36,
     "metadata": {},
     "output_type": "execute_result"
    }
   ],
   "source": [
    "# x = lunch, y = writing score\n",
    "\n",
    "y = data['writing score']\n",
    "matMI = calc_MI(x_4, y, bins)\n",
    "matMI"
   ]
  },
  {
   "cell_type": "code",
   "execution_count": 37,
   "metadata": {},
   "outputs": [
    {
     "data": {
      "text/plain": [
       "0.026565821358135455"
      ]
     },
     "execution_count": 37,
     "metadata": {},
     "output_type": "execute_result"
    }
   ],
   "source": [
    "# x = test preparation course, y = math score\n",
    "\n",
    "x = data['test preparation course']\n",
    "y = data['math score']\n",
    "\n",
    "le = preprocessing.LabelEncoder()\n",
    "le.fit(x)\n",
    "\n",
    "x_5 = le.fit_transform(x) \n",
    "x_5 = x_5.reshape(-1, 1)\n",
    "\n",
    "# since x changed, update A and the relevant variables\n",
    "\n",
    "A = np.array(x_5)\n",
    "n = A.shape[1]\n",
    "matMI = np.zeros((n, n))\n",
    "\n",
    "for ix in np.arange(n):\n",
    "    for jx in np.arange(ix+1,n):\n",
    "        matMI[ix,jx] = calc_MI(A[:,ix], A[:,jx], bins)\n",
    "\n",
    "matMI = calc_MI(x_5, y, bins)\n",
    "matMI"
   ]
  },
  {
   "cell_type": "code",
   "execution_count": 38,
   "metadata": {},
   "outputs": [
    {
     "data": {
      "text/plain": [
       "0.04797702334524123"
      ]
     },
     "execution_count": 38,
     "metadata": {},
     "output_type": "execute_result"
    }
   ],
   "source": [
    "# x = test preparation course, y = reading score\n",
    "\n",
    "y = data['reading score']\n",
    "matMI = calc_MI(x_5, y, bins)\n",
    "matMI"
   ]
  },
  {
   "cell_type": "code",
   "execution_count": 39,
   "metadata": {},
   "outputs": [
    {
     "data": {
      "text/plain": [
       "0.08331076156483963"
      ]
     },
     "execution_count": 39,
     "metadata": {},
     "output_type": "execute_result"
    }
   ],
   "source": [
    "# x = test preparation course, y = writing score\n",
    "\n",
    "y = data['writing score']\n",
    "matMI = calc_MI(x_5, y, bins)\n",
    "matMI"
   ]
  },
  {
   "cell_type": "code",
   "execution_count": 69,
   "metadata": {
    "scrolled": true
   },
   "outputs": [
    {
     "data": {
      "text/plain": [
       "3    381\n",
       "2    373\n",
       "4    185\n",
       "1     61\n",
       "Name: grade, dtype: int64"
      ]
     },
     "execution_count": 69,
     "metadata": {},
     "output_type": "execute_result"
    }
   ],
   "source": [
    "# preparing data for training. categorical attributes must be labelled for a model to train on them.\n",
    "\n",
    "data['gender'] = le.fit_transform(data['gender'])\n",
    "data['race/ethnicity'] = le.fit_transform(data['race/ethnicity'])\n",
    "data['parental level of education'] = le.fit_transform(data['parental level of education'])\n",
    "data['lunch'] = le.fit_transform(data['lunch'])\n",
    "data['test preparation course'] = le.fit_transform(data['test preparation course'])"
   ]
  },
  {
   "cell_type": "code",
   "execution_count": null,
   "metadata": {},
   "outputs": [],
   "source": [
    "# I will assign a grade to each student and predict the grade based on the categorical features\n",
    "\n",
    "conditions = [\n",
    "    \n",
    "    # best grade\n",
    "    (data['total score'] >= 91) & (data['total score'] <= 100) & (data['math score'] >= 50)\n",
    "    & (data['reading score'] >= 50) & (data['writing score'] >= 50),\n",
    "    \n",
    "    (data['total score'] >= 71) & (data['total score'] <= 90) & (data['math score'] >= 50)\n",
    "    & (data['reading score'] >= 50) & (data['writing score'] >= 50),    \n",
    "    \n",
    "    (data['total score'] >= 50) & (data['total score'] <= 70) & (data['math score'] >= 50) \n",
    "    & (data['reading score'] >= 50) & (data['writing score'] >= 50),\n",
    "    \n",
    "    # fail\n",
    "    (data['total score'] < 50) | (data['math score'] < 50) | (data['reading score'] < 50) | (data['writing score'] < 50)\n",
    "]\n",
    "         \n",
    "choices = [1, 2, 3, 4]\n",
    "\n",
    "data['grade'] = np.select(conditions, choices, default=4)\n",
    "\n",
    "data['grade'].value_counts()"
   ]
  },
  {
   "cell_type": "code",
   "execution_count": 49,
   "metadata": {},
   "outputs": [],
   "source": [
    "# divide data into attributes and target variable \n",
    "\n",
    "x = data.iloc[:,:5]\n",
    "\n",
    "# target variable: grade\n",
    "y = data.iloc[:,9]\n",
    "\n",
    "from sklearn.model_selection import train_test_split\n",
    "\n",
    "x_train, x_test, y_train, y_test = train_test_split(x, y, test_size=0.2, random_state=40)"
   ]
  },
  {
   "cell_type": "code",
   "execution_count": 61,
   "metadata": {},
   "outputs": [],
   "source": [
    "# classifier evaluation methods\n",
    "\n",
    "from sklearn.model_selection import cross_val_score\n",
    "from sklearn.metrics import confusion_matrix"
   ]
  },
  {
   "cell_type": "code",
   "execution_count": 78,
   "metadata": {},
   "outputs": [
    {
     "name": "stdout",
     "output_type": "stream",
     "text": [
      "Training Accuracy : 0.49125\n",
      "Testing Accuracy : 0.495\n"
     ]
    }
   ],
   "source": [
    "# 1. Logistic regression\n",
    "\n",
    "from sklearn.linear_model import  LogisticRegression\n",
    "\n",
    "log_reg = LogisticRegression()\n",
    "\n",
    "log_reg.fit(x_train, y_train)\n",
    "\n",
    "y_pred1 = log_reg.predict(x_test)\n",
    "\n",
    "print(\"Training Accuracy :\", log_reg.score(x_train, y_train))\n",
    "print(\"Testing Accuracy :\", log_reg.score(x_test, y_test))"
   ]
  },
  {
   "cell_type": "code",
   "execution_count": 80,
   "metadata": {},
   "outputs": [
    {
     "data": {
      "text/plain": [
       "array([[ 0, 10,  0,  0],\n",
       "       [ 0, 46, 23,  4],\n",
       "       [ 0, 31, 43,  4],\n",
       "       [ 0,  4, 25, 10]], dtype=int64)"
      ]
     },
     "execution_count": 80,
     "metadata": {},
     "output_type": "execute_result"
    }
   ],
   "source": [
    "# evaluating our logistic regression model - confusion matrix\n",
    "\n",
    "cm1 = confusion_matrix(y_test, y_pred1)\n",
    "cm1"
   ]
  },
  {
   "cell_type": "code",
   "execution_count": 82,
   "metadata": {},
   "outputs": [
    {
     "name": "stdout",
     "output_type": "stream",
     "text": [
      "0.4725563588441791\n",
      "0.04482194361511867\n"
     ]
    }
   ],
   "source": [
    "# evaluating our logistic regression model - cross validation\n",
    "\n",
    "log_accuracy = cross_val_score(estimator = logreg, X = x_train, y = y_train, cv = 10)\n",
    "print(log_accuracy.mean())\n",
    "print(log_accuracy.std())"
   ]
  },
  {
   "cell_type": "code",
   "execution_count": 84,
   "metadata": {},
   "outputs": [
    {
     "name": "stdout",
     "output_type": "stream",
     "text": [
      "Training Accuracy : 0.61625\n",
      "Testing Accuracy : 0.415\n"
     ]
    }
   ],
   "source": [
    "# 2. Random Forest\n",
    "\n",
    "from sklearn.ensemble import RandomForestClassifier\n",
    "\n",
    "random_forest = RandomForestClassifier()\n",
    "\n",
    "random_forest.fit(x_train, y_train.values.ravel())\n",
    "\n",
    "y_pred2 = random_forest.predict(x_test)\n",
    "\n",
    "print(\"Training Accuracy :\", random_forest.score(x_train, y_train))\n",
    "print(\"Testing Accuracy :\", random_forest.score(x_test, y_test))"
   ]
  },
  {
   "cell_type": "code",
   "execution_count": 87,
   "metadata": {},
   "outputs": [
    {
     "data": {
      "text/plain": [
       "array([[ 0,  7,  2,  1],\n",
       "       [ 1, 39, 28,  5],\n",
       "       [ 2, 31, 34, 11],\n",
       "       [ 0, 11, 18, 10]], dtype=int64)"
      ]
     },
     "execution_count": 87,
     "metadata": {},
     "output_type": "execute_result"
    }
   ],
   "source": [
    "# evaluating our random forest model - confusion matrix\n",
    "\n",
    "cm2 = confusion_matrix(y_test, y_pred2)\n",
    "cm2"
   ]
  },
  {
   "cell_type": "code",
   "execution_count": 86,
   "metadata": {},
   "outputs": [
    {
     "name": "stdout",
     "output_type": "stream",
     "text": [
      "0.42088063493152517\n",
      "0.03742741952222691\n"
     ]
    }
   ],
   "source": [
    "# evaluating our random forest model - cross validation\n",
    "\n",
    "rf_accuracy = cross_val_score(estimator = random_forest, X = x_train, y = y_train, cv = 10)\n",
    "print(rf_accuracy.mean())\n",
    "print(rf_accuracy.std())"
   ]
  },
  {
   "cell_type": "code",
   "execution_count": 90,
   "metadata": {},
   "outputs": [],
   "source": [
    "# 3. Support Vector Machine\n",
    "\n",
    "from sklearn.svm import SVC\n",
    "SVM = SVC(kernel = 'linear', C=10)  \n",
    "SVM.fit(x_train, y_train)\n",
    "y_pred3 = SVM.predict(x_test)"
   ]
  },
  {
   "cell_type": "code",
   "execution_count": 92,
   "metadata": {},
   "outputs": [
    {
     "data": {
      "text/plain": [
       "array([[ 0, 10,  0,  0],\n",
       "       [ 0, 54, 19,  0],\n",
       "       [ 0, 46, 32,  0],\n",
       "       [ 0, 10, 29,  0]], dtype=int64)"
      ]
     },
     "execution_count": 92,
     "metadata": {},
     "output_type": "execute_result"
    }
   ],
   "source": [
    "# evaluating our SVM model - confusion matrix \n",
    "\n",
    "cm3 = confusion_matrix(y_test, y_pred3)\n",
    "cm3"
   ]
  },
  {
   "cell_type": "code",
   "execution_count": 93,
   "metadata": {},
   "outputs": [
    {
     "name": "stdout",
     "output_type": "stream",
     "text": [
      "0.43991431588014895\n",
      "0.04585975987028942\n"
     ]
    }
   ],
   "source": [
    "# evaluating our SVM model - cross validation\n",
    "\n",
    "SVM_accuracy = cross_val_score(estimator = SVM, X = x_train, y = y_train, cv = 10)\n",
    "print(SVM_accuracy.mean())\n",
    "print(SVM_accuracy.std())"
   ]
  },
  {
   "cell_type": "code",
   "execution_count": null,
   "metadata": {},
   "outputs": [],
   "source": []
  },
  {
   "cell_type": "code",
   "execution_count": null,
   "metadata": {},
   "outputs": [],
   "source": []
  },
  {
   "cell_type": "code",
   "execution_count": null,
   "metadata": {},
   "outputs": [],
   "source": []
  }
 ],
 "metadata": {
  "kernelspec": {
   "display_name": "Python 3",
   "language": "python",
   "name": "python3"
  },
  "language_info": {
   "codemirror_mode": {
    "name": "ipython",
    "version": 3
   },
   "file_extension": ".py",
   "mimetype": "text/x-python",
   "name": "python",
   "nbconvert_exporter": "python",
   "pygments_lexer": "ipython3",
   "version": "3.7.3"
  }
 },
 "nbformat": 4,
 "nbformat_minor": 2
}
